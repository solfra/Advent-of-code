{
 "cells": [
  {
   "cell_type": "code",
   "execution_count": 1,
   "id": "59be23fd-a9fd-47a6-921b-d5f00992d248",
   "metadata": {
    "tags": []
   },
   "outputs": [],
   "source": [
    "from astropy.io import fits\n",
    "import numpy as np\n",
    "import matplotlib.pyplot as plt\n",
    "import matplotlib.gridspec as gridspec\n",
    "from astropy.visualization import ZScaleInterval, ImageNormalize\n",
    "import matplotlib.cm as cm\n",
    "from astropy.coordinates import SkyCoord\n",
    "import datetime as dt\n",
    "from astropy.table import Table, Column\n",
    "import os\n",
    "from tqdm import trange\n",
    "import csv\n",
    "import pandas as pd\n",
    "import glob\n",
    "import json\n",
    "import xml.etree.ElementTree as ET\n",
    "import requests\n",
    "import re"
   ]
  },
  {
   "cell_type": "markdown",
   "id": "a52406f9-22f0-4052-8e5b-3ced31f6241f",
   "metadata": {},
   "source": [
    "# Day 1"
   ]
  },
  {
   "cell_type": "code",
   "execution_count": 2,
   "id": "a236cd03-9570-428d-b7ef-42f86c4e450b",
   "metadata": {},
   "outputs": [],
   "source": [
    "f = open(\"/sps/euclid/Users/fsoldano/python/advent_code_23/advent_code2023_1.txt\")#ouvre le fichier \n",
    "calib_doc = f.readlines() #lit le fichier\n",
    "calib_doc = [cal.strip() for cal in calib_doc] #reformate correctement le fichier pour être lu\n",
    "f.close() #ferme le fichier"
   ]
  },
  {
   "cell_type": "markdown",
   "id": "fca669d8-adcf-4396-bdf0-4b580327bc44",
   "metadata": {},
   "source": [
    "## part 1"
   ]
  },
  {
   "cell_type": "code",
   "execution_count": 17,
   "id": "d7cad5f4-6971-435a-a7a7-e5ec172f2a1c",
   "metadata": {},
   "outputs": [],
   "source": [
    "all_nb = []\n",
    "for i in range(len(calib_doc)) :\n",
    "    nb = []\n",
    "    \n",
    "    for s in range(len(calib_doc[i])) :\n",
    "        try :\n",
    "            if calib_doc[i][s] in nb_1 :\n",
    "                nb.append(calib_doc[i][s])\n",
    "        except :\n",
    "            continue\n",
    "    all_nb.append(int(nb[0]+nb[-1]))"
   ]
  },
  {
   "cell_type": "code",
   "execution_count": 18,
   "id": "69628286-dab2-45c7-8389-7846fe5c538d",
   "metadata": {},
   "outputs": [
    {
     "data": {
      "text/plain": [
       "55834"
      ]
     },
     "execution_count": 18,
     "metadata": {},
     "output_type": "execute_result"
    }
   ],
   "source": [
    "np.sum(all_nb)"
   ]
  },
  {
   "cell_type": "markdown",
   "id": "7f78494f-1dff-4037-999a-00b8ea7521d4",
   "metadata": {},
   "source": [
    "## Part 2"
   ]
  },
  {
   "cell_type": "code",
   "execution_count": 27,
   "id": "70ffc097-a979-40cc-93d2-622723edd913",
   "metadata": {},
   "outputs": [],
   "source": [
    "nb_1 = [\"1\",\"2\",'3','4','5','6','7','8','9']\n",
    "nb_3 = {'one':'1', 'two':'2', 'six':'6' }\n",
    "nb_4 = {'four':'4','five':'5', 'nine':'9'}\n",
    "nb_5 = {'three':'3', 'seven':'7', 'eight':'8'}"
   ]
  },
  {
   "cell_type": "code",
   "execution_count": 28,
   "id": "81550850-7ce8-4ea3-a370-b6d21fcf653f",
   "metadata": {},
   "outputs": [],
   "source": [
    "all_nb = []\n",
    "for i in range(len(calib_doc)) :\n",
    "    nb = []\n",
    "    for s in range(len(calib_doc[i])) :\n",
    "        try :\n",
    "            if calib_doc[i][s] in nb_1 :\n",
    "                nb.append(calib_doc[i][s])\n",
    "            elif calib_doc[i][s:s+3] in nb_3 :\n",
    "                nb.append(nb_3[calib_doc[i][s:s+3]])\n",
    "            elif calib_doc[i][s:s+4] in nb_4 :\n",
    "                nb.append(nb_4[calib_doc[i][s:s+4]])\n",
    "            elif calib_doc[i][s:s+5] in nb_5 :\n",
    "                nb.append(nb_5[calib_doc[i][s:s+5]])\n",
    "        except :\n",
    "            continue\n",
    "    all_nb.append(int(nb[0]+nb[-1]))"
   ]
  },
  {
   "cell_type": "code",
   "execution_count": 29,
   "id": "df2de584-71ad-449f-a977-db0ba6c60a86",
   "metadata": {},
   "outputs": [
    {
     "data": {
      "text/plain": [
       "53221"
      ]
     },
     "execution_count": 29,
     "metadata": {},
     "output_type": "execute_result"
    }
   ],
   "source": [
    "np.sum(all_nb)"
   ]
  },
  {
   "cell_type": "markdown",
   "id": "332ba224-91c5-4e44-99f2-14e63bde9d2f",
   "metadata": {},
   "source": [
    "# Day 2"
   ]
  },
  {
   "cell_type": "code",
   "execution_count": 2,
   "id": "5197f69e-3927-404e-b10d-8fd88b46ad91",
   "metadata": {},
   "outputs": [],
   "source": [
    "f = open(\"/sps/euclid/Users/fsoldano/python/advent_code_23/advent_code2023_2.txt\")#ouvre le fichier \n",
    "calib_doc = f.readlines() #lit le fichier\n",
    "calib_doc = [cal.strip() for cal in calib_doc] #reformate correctement le fichier pour être lu\n",
    "f.close() #ferme le fichier"
   ]
  },
  {
   "cell_type": "markdown",
   "id": "c832e7ef-ce80-4847-aaaf-e27ed1d28680",
   "metadata": {},
   "source": [
    "## Part 1"
   ]
  },
  {
   "cell_type": "code",
   "execution_count": 43,
   "id": "ccfdfd1a-f389-4bdb-80e2-585f70db48cc",
   "metadata": {},
   "outputs": [],
   "source": [
    "good_g = []\n",
    "for i in range(len(calib_doc)) :\n",
    "    game = calib_doc[i].split(':')\n",
    "    num_game = game[0].split(' ')[1]\n",
    "    game_set = game[1].split(';')\n",
    "    game_stat = True\n",
    "    for set_i in game_set :\n",
    "        for cube in set_i.split(',') :\n",
    "            if (cube.split(' ')[2] == 'blue' and int(cube.split(' ')[1]) > 14) or (cube.split(' ')[2] == 'red' and int(cube.split(' ')[1]) > 12) or (cube.split(' ')[2] == 'green' and int(cube.split(' ')[1]) > 13) :\n",
    "                game_stat = False\n",
    "    if game_stat :\n",
    "        good_g.append(int(num_game))"
   ]
  },
  {
   "cell_type": "code",
   "execution_count": 44,
   "id": "0c80faeb-6883-43e1-93dc-dd269536aec2",
   "metadata": {},
   "outputs": [
    {
     "data": {
      "text/plain": [
       "2632"
      ]
     },
     "execution_count": 44,
     "metadata": {},
     "output_type": "execute_result"
    }
   ],
   "source": [
    "np.sum(good_g)"
   ]
  },
  {
   "cell_type": "markdown",
   "id": "b318efcd-c754-4931-afa8-a97a395ff404",
   "metadata": {},
   "source": [
    "## Part 2"
   ]
  },
  {
   "cell_type": "code",
   "execution_count": 46,
   "id": "3b040aae-c689-4007-9242-ec71632f8b7f",
   "metadata": {},
   "outputs": [
    {
     "data": {
      "text/plain": [
       "['Game 1', ' 19 blue, 12 red; 19 blue, 2 green, 1 red; 13 red, 11 blue']"
      ]
     },
     "execution_count": 46,
     "metadata": {},
     "output_type": "execute_result"
    }
   ],
   "source": [
    "calib_doc[0].split(':')"
   ]
  },
  {
   "cell_type": "code",
   "execution_count": 51,
   "id": "51c043e8-c65c-4557-a1b8-cd0bba050803",
   "metadata": {},
   "outputs": [],
   "source": [
    "tot_pow = []\n",
    "for i in range(len(calib_doc)) :\n",
    "    game = calib_doc[i].split(':')\n",
    "    num_game = game[0].split(' ')[1]\n",
    "    game_set = game[1].split(';')\n",
    "    max_r, max_g, max_b = 0,0,0\n",
    "    for set_i in game_set :\n",
    "        for cube in set_i.split(',') :\n",
    "            if (cube.split(' ')[2] == 'blue' and int(cube.split(' ')[1]) > max_b) :\n",
    "                max_b = int(cube.split(' ')[1])\n",
    "                \n",
    "            elif cube.split(' ')[2] == 'red' and int(cube.split(' ')[1]) > max_r :\n",
    "                max_r = int(cube.split(' ')[1])\n",
    "            \n",
    "            elif cube.split(' ')[2] == 'green' and int(cube.split(' ')[1]) > max_g :\n",
    "                max_g = int(cube.split(' ')[1])\n",
    "\n",
    "    power = max_r*max_g*max_b\n",
    "    tot_pow.append(power)"
   ]
  },
  {
   "cell_type": "code",
   "execution_count": 52,
   "id": "ccf4c509-c3bb-436b-b1f8-a566e73bdfb1",
   "metadata": {},
   "outputs": [
    {
     "data": {
      "text/plain": [
       "69629"
      ]
     },
     "execution_count": 52,
     "metadata": {},
     "output_type": "execute_result"
    }
   ],
   "source": [
    "np.sum(tot_pow)"
   ]
  },
  {
   "cell_type": "markdown",
   "id": "9507d749-b221-4827-ad66-22beb9b27a82",
   "metadata": {},
   "source": [
    "# Day 8"
   ]
  },
  {
   "cell_type": "code",
   "execution_count": 2,
   "id": "9a8bde30-fc41-4fb5-b0cc-2e7d532e340e",
   "metadata": {},
   "outputs": [],
   "source": [
    "f = open(\"/sps/euclid/Users/fsoldano/python/advent_code_23/advent_code2023_8.txt\")#ouvre le fichier \n",
    "pzlinput = f.readlines() #lit le fichier\n",
    "pzlinput = [cal.strip() for cal in pzlinput] #reformate correctement le fichier pour être lu\n",
    "f.close() #ferme le fichier"
   ]
  },
  {
   "cell_type": "markdown",
   "id": "6423e0ec-0780-4607-ac3a-50c173e02c90",
   "metadata": {},
   "source": [
    "## part 1"
   ]
  },
  {
   "cell_type": "code",
   "execution_count": 5,
   "id": "36d64449-be22-47af-9e31-60a99b77345d",
   "metadata": {},
   "outputs": [
    {
     "data": {
      "text/plain": [
       "'LLRRRLLRRRLRRRLRLRLLRRLRRRLLLRLRRRLRRRLRLLRRLRRRLLRRLRRLRLRRRLRRLLRLRRLRRRLRRLLRRRLRLLLRLRRRLRRLLLLRRRLRRRLRRRLRLRRLRRLRLRRLLRLLRRRLRRLRLLRRLRRLLRLLRLRRRLRLRLRRRLRRLLLRLRRRLLRLLRRRLRLRLRRRLLRLLLLRRRLRRRLRLRRRLRRLRRLLRLRLRRRLRRRLRLRRLLLLRLRRRLRRRLRLRRRLRLRRLRLRRRR'"
      ]
     },
     "execution_count": 5,
     "metadata": {},
     "output_type": "execute_result"
    }
   ],
   "source": [
    "pzlinput[0]"
   ]
  },
  {
   "cell_type": "code",
   "execution_count": 6,
   "id": "0b08c06e-01e2-4462-baa0-b512b839070d",
   "metadata": {},
   "outputs": [],
   "source": [
    "way = pzlinput[0]"
   ]
  },
  {
   "cell_type": "code",
   "execution_count": 7,
   "id": "d1b76ac6-db46-41a2-9e11-5719ec884ac8",
   "metadata": {},
   "outputs": [
    {
     "data": {
      "text/plain": [
       "263"
      ]
     },
     "execution_count": 7,
     "metadata": {},
     "output_type": "execute_result"
    }
   ],
   "source": [
    "len(way)"
   ]
  },
  {
   "cell_type": "code",
   "execution_count": 19,
   "id": "651f29e5-09b9-43bc-9ea0-588b61c1848a",
   "metadata": {},
   "outputs": [
    {
     "data": {
      "text/plain": [
       "'BQV = (HFG, GDR)'"
      ]
     },
     "execution_count": 19,
     "metadata": {},
     "output_type": "execute_result"
    }
   ],
   "source": [
    "pzlinput[2]"
   ]
  },
  {
   "cell_type": "code",
   "execution_count": 15,
   "id": "5753a0aa-353a-4ef7-a415-97d86cd49bd6",
   "metadata": {},
   "outputs": [
    {
     "data": {
      "text/plain": [
       "'GDR'"
      ]
     },
     "execution_count": 15,
     "metadata": {},
     "output_type": "execute_result"
    }
   ],
   "source": [
    "pzlinput[2].split('=')[1].split(',')[1][1:4]"
   ]
  },
  {
   "cell_type": "code",
   "execution_count": 20,
   "id": "d28c4b5c-d5cc-46a8-8eb8-379863f3c0dc",
   "metadata": {},
   "outputs": [],
   "source": [
    "path = {}\n",
    "for i in range(2,len(pzlinput)) : \n",
    "    path[pzlinput[i].split('=')[0][:3]] = (pzlinput[i].split('=')[1].split(',')[0][-3:], pzlinput[i].split('=')[1].split(',')[1][1:4])"
   ]
  },
  {
   "cell_type": "code",
   "execution_count": 23,
   "id": "5996caaf-4492-4ba7-845a-68d49fce0655",
   "metadata": {},
   "outputs": [
    {
     "data": {
      "text/plain": [
       "'HFG'"
      ]
     },
     "execution_count": 23,
     "metadata": {},
     "output_type": "execute_result"
    }
   ],
   "source": [
    "path['BQV'][0]"
   ]
  },
  {
   "cell_type": "code",
   "execution_count": 28,
   "id": "a3478b86-b5d0-497b-85e8-81a3b6e29a2a",
   "metadata": {},
   "outputs": [
    {
     "name": "stdout",
     "output_type": "stream",
     "text": [
      "12361\n"
     ]
    }
   ],
   "source": [
    "zzz = False\n",
    "steps = 0\n",
    "element = 'AAA'\n",
    "while not zzz :\n",
    "    s = steps%len(way)\n",
    "    direction = way[s]\n",
    "    if direction == 'L' :\n",
    "        element=path[element][0]\n",
    "    elif direction == 'R':\n",
    "        element=path[element][1]\n",
    "    steps +=1\n",
    "    if element == 'ZZZ':\n",
    "        zzz=True\n",
    "print(steps)"
   ]
  },
  {
   "cell_type": "markdown",
   "id": "29d4b79a-b18b-4089-a6f8-1993a9d759ea",
   "metadata": {},
   "source": [
    "## Part 2"
   ]
  },
  {
   "cell_type": "code",
   "execution_count": 54,
   "id": "265b1f31-40ca-4130-b58e-a9aab7842ed9",
   "metadata": {},
   "outputs": [],
   "source": [
    "all_path = []\n",
    "for key in path:\n",
    "    if key[2] == 'A':\n",
    "        all_path.append(key)"
   ]
  },
  {
   "cell_type": "code",
   "execution_count": 55,
   "id": "29a9f7fc-1e7a-49ee-9d4f-839a0a540b44",
   "metadata": {},
   "outputs": [
    {
     "data": {
      "text/plain": [
       "['DPA', 'QLA', 'VJA', 'GTA', 'AAA', 'XQA']"
      ]
     },
     "execution_count": 55,
     "metadata": {},
     "output_type": "execute_result"
    }
   ],
   "source": [
    "all_path"
   ]
  },
  {
   "cell_type": "code",
   "execution_count": 56,
   "id": "c1e48503-1d60-45f4-82fc-0f847f53e2ce",
   "metadata": {},
   "outputs": [
    {
     "ename": "KeyboardInterrupt",
     "evalue": "",
     "output_type": "error",
     "traceback": [
      "\u001b[0;31m---------------------------------------------------------------------------\u001b[0m",
      "\u001b[0;31mKeyboardInterrupt\u001b[0m                         Traceback (most recent call last)",
      "Cell \u001b[0;32mIn[56], line 5\u001b[0m\n\u001b[1;32m      3\u001b[0m element \u001b[38;5;241m=\u001b[39m \u001b[38;5;124m'\u001b[39m\u001b[38;5;124mAAA\u001b[39m\u001b[38;5;124m'\u001b[39m\n\u001b[1;32m      4\u001b[0m \u001b[38;5;28;01mwhile\u001b[39;00m \u001b[38;5;129;01mnot\u001b[39;00m zzz :\n\u001b[0;32m----> 5\u001b[0m     s \u001b[38;5;241m=\u001b[39m steps\u001b[38;5;241m%\u001b[39m\u001b[38;5;28;43mlen\u001b[39;49m\u001b[43m(\u001b[49m\u001b[43mway\u001b[49m\u001b[43m)\u001b[49m\n\u001b[1;32m      6\u001b[0m     direction \u001b[38;5;241m=\u001b[39m way[s]\n\u001b[1;32m      7\u001b[0m     \u001b[38;5;28;01mfor\u001b[39;00m p \u001b[38;5;129;01min\u001b[39;00m \u001b[38;5;28mrange\u001b[39m(\u001b[38;5;28mlen\u001b[39m(all_path)) :\n",
      "\u001b[0;31mKeyboardInterrupt\u001b[0m: "
     ]
    }
   ],
   "source": [
    "zzz = False\n",
    "steps = 0\n",
    "element = 'AAA'\n",
    "while not zzz :\n",
    "    s = steps%len(way)\n",
    "    direction = way[s]\n",
    "    for p in range(len(all_path)) :\n",
    "        if direction == 'L' :\n",
    "            all_path[p]=path[all_path[p]][0]\n",
    "        elif direction == 'R':\n",
    "            all_path[p]=path[all_path[p]][1]\n",
    "    steps +=1\n",
    "    all_z = 0\n",
    "    for i in all_path :\n",
    "        if i[2] == 'Z':\n",
    "            all_z+=1\n",
    "    if all_z == len(all_path) :\n",
    "        zzz=True\n",
    "print(steps)"
   ]
  },
  {
   "cell_type": "code",
   "execution_count": null,
   "id": "62e9d907-aa89-4c39-88de-2d24cb80ae1d",
   "metadata": {},
   "outputs": [],
   "source": [
    "all_path"
   ]
  },
  {
   "cell_type": "code",
   "execution_count": 57,
   "id": "004b6921-1b08-463f-94e0-fa3587101023",
   "metadata": {},
   "outputs": [
    {
     "data": {
      "text/plain": [
       "324368906"
      ]
     },
     "execution_count": 57,
     "metadata": {},
     "output_type": "execute_result"
    }
   ],
   "source": [
    "steps"
   ]
  },
  {
   "cell_type": "code",
   "execution_count": 63,
   "id": "7fc812b0-55a2-40e3-9dfe-5589c94beb95",
   "metadata": {},
   "outputs": [
    {
     "name": "stdout",
     "output_type": "stream",
     "text": [
      "Part 1: 12361\n",
      "Part 2: 18215611419223\n"
     ]
    }
   ],
   "source": [
    "import functools\n",
    "import itertools as it\n",
    "import re\n",
    "import sys\n",
    "from collections import Counter, defaultdict, deque, namedtuple\n",
    "from dataclasses import dataclass\n",
    "from math import prod\n",
    "def load_file(filename: str) -> str:\n",
    "    \"\"\"Loads an AOC file, returns a string\"\"\"\n",
    "\n",
    "    with open(filename) as f:\n",
    "        return f.read().rstrip(\"\\n\")\n",
    "    \n",
    "inp = load_file('/sps/euclid/Users/fsoldano/python/advent_code_23/advent_code2023_8.txt')\n",
    "LR = namedtuple(\"LR\", \"L R\")\n",
    "instructions, raw_nodes = inp.split(\"\\n\\n\")\n",
    "\n",
    "nodes = {}\n",
    "for node in raw_nodes.splitlines():\n",
    "    node, lr = node.split(' = ')\n",
    "    left, right = lr.strip()[1:-1].split(\", \")\n",
    "    nodes[node] = LR(left, right)\n",
    "\n",
    "\n",
    "# part 1\n",
    "node = 'AAA'\n",
    "\n",
    "steps = 0\n",
    "for direction_ in it.cycle(instructions.strip()):\n",
    "    # print(direction_)\n",
    "    steps += 1\n",
    "    if direction_ == 'L':\n",
    "        next_node = nodes[node].L\n",
    "    else:\n",
    "        next_node = nodes[node].R\n",
    "    \n",
    "    node = next_node\n",
    "    if node == 'ZZZ':\n",
    "        print(f\"Part 1: {steps}\")\n",
    "        break\n",
    "        \n",
    "\n",
    "# part 2\n",
    "\n",
    "p2 = [node for node in nodes if node.endswith('A')]\n",
    "\n",
    "def p2_runner(node):\n",
    "    steps = 0\n",
    "    for direction_ in it.cycle(instructions.strip()):\n",
    "        steps += 1\n",
    "        if direction_ == 'L':\n",
    "            next_node = nodes[node].L\n",
    "        else:\n",
    "            next_node = nodes[node].R\n",
    "        \n",
    "        node = next_node\n",
    "        if node.endswith('Z'):\n",
    "            return steps\n",
    "\n",
    "lcms = [p2_runner(node) for node in p2]\n",
    "from math import lcm\n",
    "print(f\"Part 2: {lcm(*lcms)}\")"
   ]
  },
  {
   "cell_type": "code",
   "execution_count": null,
   "id": "7a43fbef-07b0-4512-8613-bff6367ed4f4",
   "metadata": {},
   "outputs": [],
   "source": []
  }
 ],
 "metadata": {
  "kernelspec": {
   "display_name": "EDEN-3.1",
   "language": "python",
   "name": "eden-3.1"
  },
  "language_info": {
   "codemirror_mode": {
    "name": "ipython",
    "version": 3
   },
   "file_extension": ".py",
   "mimetype": "text/x-python",
   "name": "python",
   "nbconvert_exporter": "python",
   "pygments_lexer": "ipython3",
   "version": "3.9.15"
  }
 },
 "nbformat": 4,
 "nbformat_minor": 5
}
