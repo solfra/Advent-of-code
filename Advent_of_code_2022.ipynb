{
 "cells": [
  {
   "cell_type": "markdown",
   "metadata": {},
   "source": [
    "# Avent of code 2022"
   ]
  },
  {
   "cell_type": "markdown",
   "metadata": {},
   "source": [
    "***\n",
    "# Day 1\n",
    "## part 1"
   ]
  },
  {
   "cell_type": "code",
   "execution_count": 1,
   "metadata": {},
   "outputs": [],
   "source": [
    "f = open(\"input.txt\")#ouvre le fichier \n",
    "all_elves = f.readlines() #lit le fichier\n",
    "all_elves = [cal.strip() for cal in all_elves] #reformate correctement le fichier pour être lu\n",
    "f.close() #ferme le fichier"
   ]
  },
  {
   "cell_type": "code",
   "execution_count": 2,
   "metadata": {},
   "outputs": [],
   "source": [
    "cal_elves = []\n",
    "cal = 0\n",
    "for i in range(len(all_elves)) :\n",
    "    if all_elves[i] == '' :\n",
    "        cal_elves.append(cal)\n",
    "        cal = 0\n",
    "    else :\n",
    "        cal += int(all_elves[i])"
   ]
  },
  {
   "cell_type": "code",
   "execution_count": 3,
   "metadata": {},
   "outputs": [
    {
     "name": "stdout",
     "output_type": "stream",
     "text": [
      "68923\n"
     ]
    }
   ],
   "source": [
    "max_cal = max(cal_elves)\n",
    "print(max_cal)"
   ]
  },
  {
   "cell_type": "markdown",
   "metadata": {},
   "source": [
    "## part 2"
   ]
  },
  {
   "cell_type": "code",
   "execution_count": 9,
   "metadata": {},
   "outputs": [
    {
     "name": "stdout",
     "output_type": "stream",
     "text": [
      "200044\n"
     ]
    }
   ],
   "source": [
    "cal_elves.sort()\n",
    "top3 = cal_elves[-1]+cal_elves[-2]+cal_elves[-3]\n",
    "print(top3)"
   ]
  },
  {
   "cell_type": "markdown",
   "metadata": {},
   "source": [
    "***\n",
    "# Day 2\n",
    "## part 1"
   ]
  },
  {
   "cell_type": "code",
   "execution_count": 1,
   "metadata": {},
   "outputs": [],
   "source": [
    "f = open(\"input2.txt\")#ouvre le fichier \n",
    "game = f.readlines() #lit le fichier\n",
    "game = [rps.strip() for rps in game] #reformate correctement le fichier pour être lu\n",
    "f.close() #ferme le fichier"
   ]
  },
  {
   "cell_type": "code",
   "execution_count": 7,
   "metadata": {},
   "outputs": [],
   "source": [
    "score = [] #liste for all score game\n",
    "for i in range(len(game)) :\n",
    "    s = 0\n",
    "    \n",
    "    if game[i][2] == 'X' :\n",
    "        s += 1\n",
    "    elif game[i][2] == 'Y' :\n",
    "        s += 2\n",
    "    elif game[i][2] == 'Z' :\n",
    "        s += 3\n",
    "    \n",
    "    if (game[i][0] == 'A' and game[i][2]=='X') or (game[i][0] == 'B' and game[i][2]=='Y') or (game[i][0] == 'C' and game[i][2]=='Z') :\n",
    "        s+= 3\n",
    "    elif (game[i][0] == 'A' and game[i][2]=='Y') or (game[i][0] == 'B' and game[i][2]=='Z') or (game[i][0] == 'C' and game[i][2]=='X') :\n",
    "        s+=6\n",
    "    score.append(s)"
   ]
  },
  {
   "cell_type": "code",
   "execution_count": 8,
   "metadata": {},
   "outputs": [],
   "source": [
    "import numpy as np"
   ]
  },
  {
   "cell_type": "code",
   "execution_count": 9,
   "metadata": {},
   "outputs": [
    {
     "name": "stdout",
     "output_type": "stream",
     "text": [
      "12276\n"
     ]
    }
   ],
   "source": [
    "print(np.sum(score))"
   ]
  },
  {
   "cell_type": "markdown",
   "metadata": {},
   "source": [
    "## part 2"
   ]
  },
  {
   "cell_type": "code",
   "execution_count": 10,
   "metadata": {},
   "outputs": [],
   "source": [
    "score = [] #liste for all score game\n",
    "for i in range(len(game)) :\n",
    "    s = 0\n",
    "    \n",
    "    if game[i][2] == 'Y' :\n",
    "        s += 3\n",
    "    elif game[i][2] == 'Z' :\n",
    "        s += 6\n",
    "\n",
    "    if (game[i][0] == 'A' and game[i][2]=='Y') or (game[i][0] == 'B' and game[i][2]=='X') or (game[i][0] == 'C' and game[i][2]=='Z') :\n",
    "        s+= 1\n",
    "    elif (game[i][0] == 'A' and game[i][2]=='Z') or (game[i][0] == 'B' and game[i][2]=='Y') or (game[i][0] == 'C' and game[i][2]=='X') :\n",
    "        s+=2\n",
    "    elif (game[i][0] == 'A' and game[i][2]=='X') or (game[i][0] == 'B' and game[i][2]=='Z') or (game[i][0] == 'C' and game[i][2]=='Y') :\n",
    "        s+=3\n",
    "        \n",
    "    score.append(s)"
   ]
  },
  {
   "cell_type": "code",
   "execution_count": 11,
   "metadata": {},
   "outputs": [
    {
     "name": "stdout",
     "output_type": "stream",
     "text": [
      "9975\n"
     ]
    }
   ],
   "source": [
    "print(np.sum(score))"
   ]
  },
  {
   "cell_type": "markdown",
   "metadata": {},
   "source": [
    "***\n",
    "# Day 3\n",
    "## part 1"
   ]
  },
  {
   "cell_type": "code",
   "execution_count": 1,
   "metadata": {},
   "outputs": [],
   "source": [
    "f = open(\"input3.txt\")#ouvre le fichier \n",
    "rucksack  = f.readlines() #lit le fichier\n",
    "rucksack  = [rps.strip() for rps in rucksack ] #reformate correctement le fichier pour être lu\n",
    "f.close() #ferme le fichier"
   ]
  },
  {
   "cell_type": "code",
   "execution_count": 2,
   "metadata": {},
   "outputs": [],
   "source": [
    "items = []\n",
    "for j in range(len(rucksack)) :\n",
    "    l = int(len(rucksack[j])/2)\n",
    "    for i in range(l) :\n",
    "        if rucksack[j][i] in rucksack[j][l:2*l] :\n",
    "            items.append(rucksack[j][i])\n",
    "            break"
   ]
  },
  {
   "cell_type": "code",
   "execution_count": 3,
   "metadata": {},
   "outputs": [],
   "source": [
    "prior = []\n",
    "for i in range(len(items)) :\n",
    "    item = items[i]\n",
    "    if ord('a') <= ord(item) <= ord('z') :  \n",
    "        prior.append(ord(item)-ord('a')+1)\n",
    "    else :\n",
    "        prior.append(ord(item)-ord('A')+27)"
   ]
  },
  {
   "cell_type": "code",
   "execution_count": 4,
   "metadata": {},
   "outputs": [],
   "source": [
    "import numpy as np"
   ]
  },
  {
   "cell_type": "code",
   "execution_count": 5,
   "metadata": {},
   "outputs": [
    {
     "name": "stdout",
     "output_type": "stream",
     "text": [
      "7766\n"
     ]
    }
   ],
   "source": [
    "print(np.sum(prior))"
   ]
  },
  {
   "cell_type": "markdown",
   "metadata": {},
   "source": [
    "## Part 2"
   ]
  },
  {
   "cell_type": "code",
   "execution_count": 7,
   "metadata": {},
   "outputs": [],
   "source": [
    "items = []\n",
    "for j in range(0,len(rucksack),3) :\n",
    "    l = len(rucksack[j])\n",
    "    for i in range(l) :\n",
    "        if rucksack[j][i] in rucksack[j+1] and rucksack[j][i] in rucksack[j+2] :\n",
    "            items.append(rucksack[j][i])\n",
    "            break"
   ]
  },
  {
   "cell_type": "code",
   "execution_count": 8,
   "metadata": {},
   "outputs": [],
   "source": [
    "prior = []\n",
    "for i in range(len(items)) :\n",
    "    item = items[i]\n",
    "    if ord('a') <= ord(item) <= ord('z') :  \n",
    "        prior.append(ord(item)-ord('a')+1)\n",
    "    else :\n",
    "        prior.append(ord(item)-ord('A')+27)"
   ]
  },
  {
   "cell_type": "code",
   "execution_count": 9,
   "metadata": {},
   "outputs": [
    {
     "name": "stdout",
     "output_type": "stream",
     "text": [
      "2415\n"
     ]
    }
   ],
   "source": [
    "print(np.sum(prior))"
   ]
  },
  {
   "cell_type": "markdown",
   "metadata": {},
   "source": [
    "***\n",
    "# Day 4\n",
    "## Part 1"
   ]
  },
  {
   "cell_type": "code",
   "execution_count": 1,
   "metadata": {},
   "outputs": [],
   "source": [
    "f = open(\"input4.txt\")#ouvre le fichier \n",
    "section  = f.readlines() #lit le fichier\n",
    "section  = [s.strip() for s in section ] #reformate correctement le fichier pour être lu\n",
    "f.close() #ferme le fichier "
   ]
  },
  {
   "cell_type": "code",
   "execution_count": 12,
   "metadata": {},
   "outputs": [
    {
     "name": "stdout",
     "output_type": "stream",
     "text": [
      "490\n"
     ]
    }
   ],
   "source": [
    "fullyContain = 0\n",
    "for i in range(len(section)) :\n",
    "    \n",
    "    e11 = int(section[i].split(',')[0].split('-')[0])\n",
    "    e12 = int(section[i].split(',')[0].split('-')[1])\n",
    "    e21 = int(section[i].split(',')[1].split('-')[0])\n",
    "    e22 = int(section[i].split(',')[1].split('-')[1])\n",
    "    \n",
    "    if (e11<=e21<=e12 and e11<=e22<=e12) or (e21<=e11<=e22 and e21<=e12<=e22) :\n",
    "        fullyContain +=1\n",
    "\n",
    "print(fullyContain)"
   ]
  },
  {
   "cell_type": "markdown",
   "metadata": {},
   "source": [
    "## Part 2"
   ]
  },
  {
   "cell_type": "code",
   "execution_count": 68,
   "metadata": {},
   "outputs": [
    {
     "name": "stdout",
     "output_type": "stream",
     "text": [
      "921\n"
     ]
    }
   ],
   "source": [
    "fullyContain = 0\n",
    "for i in range(len(section)) :\n",
    "    \n",
    "    e11 = int(section[i].split(',')[0].split('-')[0])\n",
    "    e12 = int(section[i].split(',')[0].split('-')[1])\n",
    "    e21 = int(section[i].split(',')[1].split('-')[0])\n",
    "    e22 = int(section[i].split(',')[1].split('-')[1])\n",
    "    \n",
    "    if e11<=e21<=e12 or e11<=e22<=e12 or e21<=e11<=e22 or e21<=e12<=e22 :\n",
    "        fullyContain += 1\n",
    "\n",
    "print(fullyContain)"
   ]
  },
  {
   "cell_type": "markdown",
   "metadata": {},
   "source": [
    "***\n",
    "# Day 5\n",
    "## par 1"
   ]
  },
  {
   "cell_type": "code",
   "execution_count": 1,
   "metadata": {},
   "outputs": [],
   "source": [
    "import numpy as np"
   ]
  },
  {
   "cell_type": "code",
   "execution_count": 1,
   "metadata": {},
   "outputs": [],
   "source": [
    "f = open(\"input5.txt\")#ouvre le fichier \n",
    "crates = f.readlines() #lit le fichier\n",
    "crates = [c.strip() for c in crates] #reformate correctement le fichier pour être lu\n",
    "f.close() #ferme le fichier"
   ]
  },
  {
   "cell_type": "code",
   "execution_count": 2,
   "metadata": {},
   "outputs": [],
   "source": [
    "case = [[],[],[],[],[],[],[],[],[]]\n",
    "for i in range(8) :\n",
    "    n=0\n",
    "    for j in range(1,len(crates[7-i]),4) :\n",
    "        if ord('A')<= ord(crates[7-i][j]) <= ord('Z') : \n",
    "            case[n].append(crates[7-i][j])\n",
    "        n+=1"
   ]
  },
  {
   "cell_type": "code",
   "execution_count": 4,
   "metadata": {},
   "outputs": [],
   "source": [
    "for i in range(10,len(crates)) :\n",
    "    mvt = crates[i].split(' ')\n",
    "    \n",
    "    for j in range(int(mvt[1])) :\n",
    "        c = case[int(mvt[3])-1].pop()\n",
    "        case[int(mvt[5])-1].append(c)"
   ]
  },
  {
   "cell_type": "code",
   "execution_count": 6,
   "metadata": {},
   "outputs": [
    {
     "name": "stdout",
     "output_type": "stream",
     "text": [
      "SHMSDGZVC\n"
     ]
    }
   ],
   "source": [
    "result= ''\n",
    "for i in range(len(case)) :\n",
    "    result += case[i][-1]\n",
    "print(result)"
   ]
  },
  {
   "cell_type": "markdown",
   "metadata": {},
   "source": [
    "## Part 2"
   ]
  },
  {
   "cell_type": "code",
   "execution_count": 3,
   "metadata": {},
   "outputs": [],
   "source": [
    "for i in range(10,len(crates)) :\n",
    "    mvt = crates[i].split(' ')\n",
    "    p = []\n",
    "    for j in range(int(mvt[1])) :\n",
    "        c = case[int(mvt[3])-1].pop()\n",
    "        p.append(c)\n",
    "    p.reverse()\n",
    "    for k in range(len(p)) :\n",
    "        case[int(mvt[5])-1].append(p[k])"
   ]
  },
  {
   "cell_type": "code",
   "execution_count": 5,
   "metadata": {},
   "outputs": [
    {
     "name": "stdout",
     "output_type": "stream",
     "text": [
      "VRZGHDFBQ\n"
     ]
    }
   ],
   "source": [
    "result= ''\n",
    "for i in range(len(case)) :\n",
    "    result += case[i][-1]\n",
    "print(result)"
   ]
  },
  {
   "cell_type": "markdown",
   "metadata": {},
   "source": [
    "***\n",
    "# Day 6\n",
    "## Part 1"
   ]
  },
  {
   "cell_type": "code",
   "execution_count": 1,
   "metadata": {},
   "outputs": [],
   "source": [
    "f = open(\"input6.txt\")#ouvre le fichier  \n",
    "com = f.readlines() #lit le fichier\n",
    "com = [c.strip() for c in com] #reformate correctement le fichier pour être lu\n",
    "f.close() #ferme le fichier"
   ]
  },
  {
   "cell_type": "code",
   "execution_count": 5,
   "metadata": {},
   "outputs": [
    {
     "name": "stdout",
     "output_type": "stream",
     "text": [
      "1909\n"
     ]
    }
   ],
   "source": [
    "for i in range(len(com[0])) :\n",
    "    c1 = com[0][i]\n",
    "    c2 = com[0][i+1]\n",
    "    c3 = com[0][i+2]\n",
    "    c4 = com[0][i+3]\n",
    "    if c1 != c2 and c1 != c3 and c1 != c4 and c2 != c3 and c2 != c4 and c3 != c4 :\n",
    "        print(4+i)\n",
    "        break"
   ]
  },
  {
   "cell_type": "markdown",
   "metadata": {},
   "source": [
    "## Part 2"
   ]
  },
  {
   "cell_type": "code",
   "execution_count": 17,
   "metadata": {},
   "outputs": [
    {
     "name": "stdout",
     "output_type": "stream",
     "text": [
      "3380\n"
     ]
    }
   ],
   "source": [
    "for i in range(len(com[0])) :\n",
    "    marker = com[0][i:i+14]\n",
    "    c = []\n",
    "    for j in range(len(marker)) :\n",
    "        c.append(marker.count(marker[j]))\n",
    "    if c.count(1) == len(marker) :\n",
    "        print(i+14)\n",
    "        break"
   ]
  },
  {
   "cell_type": "markdown",
   "metadata": {},
   "source": [
    "***\n",
    "# Day 8\n",
    "## part 1"
   ]
  },
  {
   "cell_type": "code",
   "execution_count": 1,
   "metadata": {},
   "outputs": [],
   "source": [
    "f = open(\"input8.txt\")#ouvre le fichier qui contien le message à décoder \n",
    "forest = f.readlines() #lit le fichier\n",
    "forest = [ f.strip() for f in forest] #reformate correctement le fichier pour être lu\n",
    "f.close() #ferme le fichier de message\n",
    "tree = []\n",
    "for i in range(len(forest)) :\n",
    "    t=[]\n",
    "    for j in range(len(forest[0])) :\n",
    "        t.append(int(forest[i][j]))\n",
    "    tree.append(t)"
   ]
  },
  {
   "cell_type": "code",
   "execution_count": 60,
   "metadata": {},
   "outputs": [
    {
     "name": "stdout",
     "output_type": "stream",
     "text": [
      "1711\n"
     ]
    }
   ],
   "source": [
    "nTree = len(tree)*2+len(tree[0])*2-4\n",
    "for i in range(1,len(tree)-1) :\n",
    "    for j in range(1,len(tree[0])-1) :\n",
    "        \n",
    "        heigh = tree[i][j]\n",
    "        #print(heigh)\n",
    "        v= [1,1,1,1]\n",
    "        c= []\n",
    "        \n",
    "        for k in range(len(tree[0])) :\n",
    "            c.append(tree[k][j])\n",
    "        #print( tree[i][0:j], tree[i][j+1:len(tree[0])] ,c[0:i] , c[i+1:len(c)])    \n",
    "        \n",
    "        for n in range(heigh,10) :\n",
    "            #print(n)\n",
    "            if n in tree[i][0:j] :\n",
    "                v[0] =0\n",
    "                \n",
    "            if n in tree[i][j+1:len(tree[0])] :\n",
    "                v[1] =0\n",
    "                \n",
    "            if n in c[0:i]  :\n",
    "                v[2] = 0\n",
    "                \n",
    "            if n in c[i+1:len(c)] :\n",
    "                v[3] =0\n",
    "                \n",
    "                \n",
    "        #print(v)\n",
    "        if 1 in v :\n",
    "            nTree +=1\n",
    "            \n",
    "print(nTree)"
   ]
  },
  {
   "cell_type": "markdown",
   "metadata": {},
   "source": [
    "## Part 2"
   ]
  },
  {
   "cell_type": "code",
   "execution_count": 2,
   "metadata": {},
   "outputs": [
    {
     "name": "stdout",
     "output_type": "stream",
     "text": [
      "301392\n"
     ]
    }
   ],
   "source": [
    "maxScore = 0\n",
    "for i in range(1,len(tree)-1) :\n",
    "    for j in range(1,len(tree[0])-1) :\n",
    "        \n",
    "        heigh = tree[i][j]\n",
    "        #print('h',heigh)\n",
    "        v= [0,0,0,0]\n",
    "        c= []\n",
    "        \n",
    "        for k in range(len(tree[0])) :\n",
    "            c.append(tree[k][j])    \n",
    "\n",
    "        for n in range(1,len(tree)) :\n",
    "            if j-n <0 :\n",
    "                break\n",
    "            else : \n",
    "                v[0]+=1\n",
    "            if heigh<= tree[i][j-n] :\n",
    "                break\n",
    "\n",
    "        for n in range(1,len(tree)) :\n",
    "            if j+n>=len(tree) :\n",
    "                break\n",
    "            else :\n",
    "                #print(tree[i][j+n])\n",
    "                v[1]+=1\n",
    "            if heigh<= tree[i][j+n] :\n",
    "                break\n",
    "                \n",
    "        for n in range(1,len(tree)) :\n",
    "            if i-n<0 :\n",
    "                break\n",
    "            else :\n",
    "                v[2]+=1\n",
    "            if heigh<= c[i-n] :\n",
    "                break\n",
    "            \n",
    "        for n in range(1,len(tree)) :\n",
    "            if i+n >=len(c) :\n",
    "                break\n",
    "            else :\n",
    "                v[3]+=1\n",
    "            if heigh<= c[i+n] :\n",
    "                break\n",
    "\n",
    "        s = v[0]*v[1]*v[2]*v[3]\n",
    "        #print(v)\n",
    "        if s > maxScore :\n",
    "            maxScore = s\n",
    "            \n",
    "print(maxScore)"
   ]
  },
  {
   "cell_type": "markdown",
   "metadata": {},
   "source": [
    "***\n",
    "# Day 10\n",
    "## Part 1"
   ]
  },
  {
   "cell_type": "code",
   "execution_count": 53,
   "metadata": {},
   "outputs": [],
   "source": [
    "f = open(\"input10.txt\")#ouvre le fichier  \n",
    "instr = f.readlines() #lit le fichier\n",
    "instr = [ m.strip() for m in instr] #reformate correctement le fichier pour être lu\n",
    "f.close() #ferme le fichier"
   ]
  },
  {
   "cell_type": "code",
   "execution_count": 14,
   "metadata": {},
   "outputs": [
    {
     "name": "stdout",
     "output_type": "stream",
     "text": [
      "15120\n"
     ]
    }
   ],
   "source": [
    "cycle = 1\n",
    "x = 1\n",
    "res = 0\n",
    "for i in range(len(instr)) : \n",
    "    mes = instr[i].split(\" \")\n",
    "    if mes[0] == 'addx' :\n",
    "        cycle +=1\n",
    "        x += int(mes[1])\n",
    "        if cycle == 20 or cycle == 60 or cycle == 100 or cycle == 140 or cycle == 180 or cycle == 220 : \n",
    "            res += cycle*x\n",
    "        cycle +=1\n",
    "    else : \n",
    "        cycle +=1\n",
    "    \n",
    "    if cycle ==  20 or cycle == 60 or cycle == 100 or cycle == 140 or cycle == 180 or cycle == 220 :\n",
    "        res += cycle*x\n",
    "print(res)"
   ]
  },
  {
   "cell_type": "markdown",
   "metadata": {},
   "source": [
    "## Part 2"
   ]
  },
  {
   "cell_type": "code",
   "execution_count": 56,
   "metadata": {},
   "outputs": [],
   "source": [
    "def creat_line() :\n",
    "    l=[]\n",
    "    for i in range(40) :\n",
    "        l.append(0)\n",
    "    return l"
   ]
  },
  {
   "cell_type": "code",
   "execution_count": 57,
   "metadata": {},
   "outputs": [],
   "source": [
    "def write_line(l,sprit,nb) :\n",
    "    if nb in sprit :\n",
    "        l[nb] = 1\n",
    "    return l"
   ]
  },
  {
   "cell_type": "code",
   "execution_count": 59,
   "metadata": {},
   "outputs": [
    {
     "name": "stdout",
     "output_type": "stream",
     "text": [
      "[1, 1, 1, 0, 0, 1, 0, 0, 1, 0, 1, 1, 1, 0, 0, 0, 0, 1, 1, 0, 1, 1, 1, 0, 0, 1, 1, 1, 0, 0, 1, 0, 0, 0, 0, 0, 1, 1, 0, 0]\n",
      "[1, 0, 0, 1, 0, 1, 0, 1, 0, 0, 1, 0, 0, 1, 0, 0, 0, 0, 1, 0, 1, 0, 0, 1, 0, 1, 0, 0, 1, 0, 1, 0, 0, 0, 0, 1, 0, 0, 1, 0]\n",
      "[1, 0, 0, 1, 0, 1, 1, 0, 0, 0, 1, 0, 0, 1, 0, 0, 0, 0, 1, 0, 1, 1, 1, 0, 0, 1, 0, 0, 1, 0, 1, 0, 0, 0, 0, 1, 0, 0, 1, 0]\n",
      "[1, 1, 1, 0, 0, 1, 0, 1, 0, 0, 1, 1, 1, 0, 0, 0, 0, 0, 1, 0, 1, 0, 0, 1, 0, 1, 1, 1, 0, 0, 1, 0, 0, 0, 0, 1, 1, 1, 1, 0]\n",
      "[1, 0, 1, 0, 0, 1, 0, 1, 0, 0, 1, 0, 0, 0, 0, 1, 0, 0, 1, 0, 1, 0, 0, 1, 0, 1, 0, 0, 0, 0, 1, 0, 0, 0, 0, 1, 0, 0, 1, 0]\n",
      "[1, 0, 0, 1, 0, 1, 0, 0, 1, 0, 1, 0, 0, 0, 0, 0, 1, 1, 0, 0, 1, 1, 1, 0, 0, 1, 0, 0, 0, 0, 1, 1, 1, 1, 0, 1, 0, 0, 1, 0]\n"
     ]
    }
   ],
   "source": [
    "cycle = 1\n",
    "x = [0,1,2]\n",
    "res = creat_line()\n",
    "l=0\n",
    "img = []\n",
    "for i in range(len(instr)) : \n",
    "    mes = instr[i].split(\" \")\n",
    "    \n",
    "    #print(mes,cycle,x,l)\n",
    "    \n",
    "    if mes[0] == 'addx' :\n",
    "        cycle +=1\n",
    "        res = write_line(res,x,l)\n",
    "        l+=1\n",
    "        \n",
    "        if cycle == 41 or cycle == 81 or cycle == 121 or cycle == 161 or cycle == 201 or cycle == 241 : \n",
    "            print(res)\n",
    "            img.append(res)\n",
    "            res=creat_line()\n",
    "            l=0\n",
    "        \n",
    "        res = write_line(res,x,l)\n",
    "        l+=1\n",
    "        \n",
    "        x[0] = x[0]+int(mes[1])\n",
    "        x[1] = x[1]+int(mes[1])\n",
    "        x[2] = x[2]+ int(mes[1])\n",
    "        cycle +=1\n",
    "        \n",
    "    else : \n",
    "        cycle +=1\n",
    "        res = write_line(res,x,l)\n",
    "        l+=1\n",
    "    \n",
    "    if cycle == 41 or cycle == 81 or cycle == 121 or cycle == 161 or cycle == 201 or cycle == 241 :\n",
    "        print(res)\n",
    "        img.append(res)\n",
    "        res = creat_line()\n",
    "        l=0\n"
   ]
  },
  {
   "cell_type": "code",
   "execution_count": 60,
   "metadata": {},
   "outputs": [],
   "source": [
    "import matplotlib.pyplot as plt"
   ]
  },
  {
   "cell_type": "code",
   "execution_count": 62,
   "metadata": {},
   "outputs": [
    {
     "data": {
      "text/plain": [
       "<matplotlib.image.AxesImage at 0x1d2aace3e10>"
      ]
     },
     "execution_count": 62,
     "metadata": {},
     "output_type": "execute_result"
    },
    {
     "data": {
      "image/png": "[encoded data removed]",
      "text/plain": [
       "<Figure size 1080x1440 with 1 Axes>"
      ]
     },
     "metadata": {
      "needs_background": "light"
     },
     "output_type": "display_data"
    }
   ],
   "source": [
    "plt.figure(figsize=(15,20))\n",
    "plt.imshow(img)"
   ]
  },
  {
   "cell_type": "markdown",
   "metadata": {},
   "source": [
    "# Day 21\n",
    "## part 1"
   ]
  },
  {
   "cell_type": "code",
   "execution_count": 42,
   "metadata": {},
   "outputs": [],
   "source": [
    "f = open(\"input21.txt\")#ouvre le fichier qui contien le message à décoder \n",
    "instr = f.readlines() #lit le fichier\n",
    "instr = [ m.strip() for m in instr] #reformate correctement le fichier pour être lu\n",
    "f.close() #ferme le fichier de message"
   ]
  },
  {
   "cell_type": "code",
   "execution_count": 2,
   "metadata": {},
   "outputs": [],
   "source": [
    "to_do = {}\n",
    "nbr = {}\n",
    "for i in range(len(instr)) :\n",
    "    m = instr[i].split(\" \")\n",
    "    if len(m) == 4 :\n",
    "           to_do[m[0][0:4]] = m[1:4]\n",
    "    else :\n",
    "        nbr[m[0][0:4]] = int(m[1])"
   ]
  },
  {
   "cell_type": "code",
   "execution_count": 3,
   "metadata": {
    "tags": []
   },
   "outputs": [
    {
     "name": "stdout",
     "output_type": "stream",
     "text": [
      "331319379445180\n"
     ]
    }
   ],
   "source": [
    "#i = 0\n",
    "while len(to_do) != 0 :\n",
    "    #i+=1\n",
    "    #print(i)\n",
    "    to_del = []\n",
    "    for monkey in to_do :\n",
    "        m = to_do[monkey] \n",
    "        if type(m[0]) != int :\n",
    "            if m[0] in nbr :\n",
    "                m[0] = nbr[m[0]]\n",
    "        if type(m[2]) != int :\n",
    "            if m[2] in nbr :\n",
    "                m[2] = nbr[m[2]]\n",
    "                \n",
    "        if type(m[0]) == int and type(m[2]) == int :\n",
    "            if m[1] == '+' :\n",
    "                n = m[0] + m[2]\n",
    "            elif m[1] == '-' :\n",
    "                n = m[0]-m[2]\n",
    "            elif m[1] == '*' :\n",
    "                n = m[0]*m[2]\n",
    "            elif m[1] == '/' :\n",
    "                n = int(m[0]/m[2])\n",
    "            \n",
    "            nbr[monkey] = n\n",
    "            to_del.append(monkey)\n",
    "            \n",
    "    for monkey in to_del :\n",
    "        del to_do[monkey]\n",
    "\n",
    "print(nbr['root'])"
   ]
  },
  {
   "cell_type": "markdown",
   "metadata": {},
   "source": [
    "# part 2"
   ]
  },
  {
   "cell_type": "code",
   "execution_count": 13,
   "metadata": {},
   "outputs": [],
   "source": [
    "to_do = {}\n",
    "nbr = {}\n",
    "for i in range(len(instr)) :\n",
    "    m = instr[i].split(\" \")\n",
    "    if len(m) == 4 :\n",
    "           to_do[m[0][0:4]] = m[1:4]\n",
    "    else :\n",
    "        nbr[m[0][0:4]] = int(m[1])"
   ]
  },
  {
   "cell_type": "code",
   "execution_count": 165,
   "metadata": {
    "tags": []
   },
   "outputs": [
    {
     "name": "stdout",
     "output_type": "stream",
     "text": [
      "3715799488132\n"
     ]
    }
   ],
   "source": [
    "humain = 3715799486667\n",
    "res = []\n",
    "t =True\n",
    "while t :\n",
    "    to_do = {}\n",
    "    nbr = {}\n",
    "    for i in range(len(instr)) :\n",
    "        m = instr[i].split(\" \")\n",
    "        if len(m) == 4 :\n",
    "               to_do[m[0][0:4]] = m[1:4]\n",
    "        else :\n",
    "            nbr[m[0][0:4]] = int(m[1])\n",
    "    to_do['root'][1] = '='\n",
    "    humain += 1\n",
    "    nbr['humn'] = humain\n",
    "    while len(to_do) != 0 :\n",
    "        #i+=1\n",
    "        #print(i)\n",
    "        to_del = []\n",
    "        for monkey in to_do :\n",
    "            m = to_do[monkey] \n",
    "            if type(m[0]) != int :\n",
    "                if m[0] in nbr :\n",
    "                    m[0] = nbr[m[0]]\n",
    "            if type(m[2]) != int :\n",
    "                if m[2] in nbr :\n",
    "                    m[2] = nbr[m[2]]\n",
    "                    \n",
    "            if type(m[0]) == int and type(m[2]) == int :\n",
    "                if m[1] == '+' :\n",
    "                    n = m[0] + m[2]\n",
    "                elif m[1] == '-' :\n",
    "                    n = m[0]-m[2]\n",
    "                elif m[1] == '*' :\n",
    "                    n = m[0]*m[2]\n",
    "                elif m[1] == '/' :\n",
    "                    n = int(m[0]/m[2])\n",
    "                \n",
    "                nbr[monkey] = n\n",
    "                to_del.append(monkey)\n",
    "                \n",
    "        \n",
    "        \n",
    "        m = to_do['root']\n",
    "        if type(m[0]) == int and type(m[2]) == int :\n",
    "            #print(humain,m)\n",
    "            res.append(m)\n",
    "            #t = False\n",
    "            if m[0] == m[2] :\n",
    "                t = False\n",
    "            break\n",
    "        for monkey in to_del :\n",
    "            del to_do[monkey]    \n",
    "    \n",
    "print(humain)"
   ]
  }
 ],
 "metadata": {
  "kernelspec": {
   "display_name": "Python 3 (ipykernel)",
   "language": "python",
   "name": "python3"
  },
  "language_info": {
   "codemirror_mode": {
    "name": "ipython",
    "version": 3
   },
   "file_extension": ".py",
   "mimetype": "text/x-python",
   "name": "python",
   "nbconvert_exporter": "python",
   "pygments_lexer": "ipython3",
   "version": "3.10.6"
  }
 },
 "nbformat": 4,
 "nbformat_minor": 4
}
